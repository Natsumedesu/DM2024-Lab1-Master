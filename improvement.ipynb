{
 "cells": [
  {
   "cell_type": "code",
   "execution_count": 1,
   "id": "271bed5d-ed52-4240-91ba-da6c48c96a48",
   "metadata": {},
   "outputs": [],
   "source": [
    "#for t in twenty_train.target[:10]:\n",
    "    #print(twenty_train.target_names[t])\n",
    "#不需要迴圈，直接print\n",
    "#twenty_train.target_names[:10]"
   ]
  },
  {
   "cell_type": "code",
   "execution_count": 2,
   "id": "66227f40-676f-47fa-8819-90f773e290ba",
   "metadata": {},
   "outputs": [
    {
     "name": "stdout",
     "output_type": "stream",
     "text": [
      "[{'text': 'dummy record', 'category': 1, 'category_name': 'dummy category'}, {'text': 'dummy record', 'category': 1, 'category_name': 'dummy category'}]\n",
      "[{'text': 'dummy record', 'category': 1, 'category_name': 'dummy category'}, {'text': 'dummy record', 'category': 1, 'category_name': 'dummy category'}]\n",
      "True\n"
     ]
    }
   ],
   "source": [
    "#在dummy duplicate的時候\n",
    "dummy_duplicate_dict = [{\n",
    "                             'text': 'dummy record',\n",
    "                             'category': 1, \n",
    "                             'category_name': \"dummy category\"\n",
    "                        },\n",
    "                        {\n",
    "                             'text': 'dummy record',\n",
    "                             'category': 1, \n",
    "                             'category_name': \"dummy category\"\n",
    "                        }]\n",
    "print(dummy_duplicate_dict)\n",
    "\n",
    "#可以減少打字\n",
    "dummy = {\n",
    "            'text': 'dummy record',\n",
    "            'category': 1, \n",
    "            'category_name': \"dummy category\"\n",
    "        }\n",
    "dummy_duplicate_dict_new = [dummy, dummy]\n",
    "\n",
    "\n",
    "print(dummy_duplicate_dict_new)\n",
    "\n",
    "print(dummy_duplicate_dict == dummy_duplicate_dict_new)"
   ]
  },
  {
   "cell_type": "code",
   "execution_count": null,
   "id": "e25b7645-1bf8-4dcf-af8e-da51f8c3fa12",
   "metadata": {},
   "outputs": [],
   "source": []
  }
 ],
 "metadata": {
  "kernelspec": {
   "display_name": "Python 3 (ipykernel)",
   "language": "python",
   "name": "python3"
  },
  "language_info": {
   "codemirror_mode": {
    "name": "ipython",
    "version": 3
   },
   "file_extension": ".py",
   "mimetype": "text/x-python",
   "name": "python",
   "nbconvert_exporter": "python",
   "pygments_lexer": "ipython3",
   "version": "3.9.20"
  }
 },
 "nbformat": 4,
 "nbformat_minor": 5
}
